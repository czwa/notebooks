{
 "cells": [
  {
   "cell_type": "code",
   "execution_count": 2,
   "metadata": {},
   "outputs": [],
   "source": [
    "%matplotlib notebook\n",
    "import json\n",
    "\n",
    "from astropy import units as u\n",
    "import matplotlib.pyplot as plt\n",
    "import numpy as np\n",
    "from mpl_toolkits.mplot3d import Axes3D\n",
    "\n",
    "from astropy import time\n",
    "from astropy import coordinates\n",
    "\n",
    "from poliastro.bodies import Earth, Mars, Sun, Jupiter\n",
    "from poliastro.twobody import Orbit\n",
    "from poliastro import ephem\n",
    "import poliastro"
   ]
  },
  {
   "cell_type": "code",
   "execution_count": 5,
   "metadata": {},
   "outputs": [],
   "source": [
    "# https://minorplanetcenter.net/data\n",
    "with open(\"./data/mpcorb_extended.json\", \"r\") as read_file:\n",
    "    mpc_data = json.load(read_file)"
   ]
  },
  {
   "cell_type": "code",
   "execution_count": 8,
   "metadata": {},
   "outputs": [
    {
     "name": "stdout",
     "output_type": "stream",
     "text": [
      "796695\n",
      "{'H': 3.34, 'G': 0.12, 'Num_obs': 6743, 'rms': 0.6, 'U': '0', 'Arc_years': '1801-2019', 'Perturbers': 'M-v', 'Perturbers_2': '30h', 'Number': '(1)', 'Name': 'Ceres', 'Principal_desig': 'A899 OF', 'Other_desigs': ['1943 XB'], 'Epoch': 2458600.5, 'M': 77.37215, 'Peri': 73.59764, 'Node': 80.30553, 'i': 10.59407, 'e': 0.0760091, 'n': 0.21388522, 'a': 2.7691652, 'Ref': 'MPO467603', 'Num_opps': 115, 'Computer': 'MPCLINUX', 'Hex_flags': '0000', 'Last_obs': '2019-03-02', 'Tp': 2458238.75384, 'Orbital_period': 4.6081149, 'Perihelion_dist': 2.5586834, 'Aphelion_dist': 2.979647, 'Semilatus_rectum': 1.3765833, 'Synodic_period': 1.277153, 'Orbit_type': 'MBA'}\n"
     ]
    }
   ],
   "source": [
    "print(len(mpc_data))\n",
    "print(mpc_data[0])"
   ]
  },
  {
   "cell_type": "code",
   "execution_count": 74,
   "metadata": {},
   "outputs": [],
   "source": [
    "epoch = time.Time(mpc_data[0]['Epoch'], format='jd', scale='tdb')\n",
    "sun = Orbit.from_body_ephem(Sun, epoch)"
   ]
  },
  {
   "cell_type": "code",
   "execution_count": 75,
   "metadata": {},
   "outputs": [],
   "source": [
    "orb = Orbit.from_classical(sun,\n",
    "                           mpc_data[0]['a'] * u.AU, mpc_data[0]['e'] * u.dimensionless_unscaled,\n",
    "                           mpc_data[0]['i'] * u.degree, mpc_data[0]['Node'] * u.degree,\n",
    "                           mpc_data[0]['Peri'] * u.degree, mpc_data[0]['M'] * u.degree,\n",
    "                           epoch=time.Time(mpc_data[0]['Epoch'], scale='tdb', format='jd'))"
   ]
  },
  {
   "cell_type": "code",
   "execution_count": 76,
   "metadata": {},
   "outputs": [],
   "source": [
    "orb2 = Orbit.from_horizons(\"Ceres\", epoch)"
   ]
  },
  {
   "cell_type": "code",
   "execution_count": 77,
   "metadata": {},
   "outputs": [
    {
     "name": "stdout",
     "output_type": "stream",
     "text": [
      "106.26097263615678 deg 106.11920482 deg\n",
      "361.746160000097\n"
     ]
    }
   ],
   "source": [
    "# necessary?\n",
    "M = mpc_data[0]['M'] * u.deg\n",
    "M = 106.11920482 * u.deg\n",
    "e = mpc_data[0]['e'] * u.dimensionless_unscaled\n",
    "nu = (2. * e - 0.25 * e**3) * np.sin(M) + 1.25 * e**2 * np.sin(2. * M) + (13.0/12.0) * e**3 * np.sin(3. * M)\n",
    "nu = nu * u.deg + M\n",
    "print(nu, M)\n",
    "print(mpc_data[0]['Epoch'] - mpc_data[0]['Tp'])"
   ]
  },
  {
   "cell_type": "code",
   "execution_count": 78,
   "metadata": {},
   "outputs": [
    {
     "name": "stdout",
     "output_type": "stream",
     "text": [
      "3 x 3 AU x 10.6 deg orbit around 0 x 1163864 km x 22.9 deg (ICRS) orbit around Sun (☉) at epoch 2458600.5 (TDB) at epoch 2458600.5 (TDB) \n",
      " 3 x 3 AU x 27.2 deg (HCRS) orbit around Sun (☉) at epoch 2458600.5 (TDB)\n"
     ]
    }
   ],
   "source": [
    "print(orb, \"\\n\", orb2)"
   ]
  },
  {
   "cell_type": "code",
   "execution_count": 45,
   "metadata": {},
   "outputs": [
    {
     "name": "stdout",
     "output_type": "stream",
     "text": [
      "2019-08-14T15:30:00.000\n"
     ]
    }
   ],
   "source": [
    "print(orb2.epoch)"
   ]
  },
  {
   "cell_type": "code",
   "execution_count": 46,
   "metadata": {},
   "outputs": [
    {
     "name": "stdout",
     "output_type": "stream",
     "text": [
      "2.7691652\n"
     ]
    }
   ],
   "source": [
    "print(mpc_data[0]['a'])"
   ]
  },
  {
   "cell_type": "code",
   "execution_count": 47,
   "metadata": {},
   "outputs": [
    {
     "name": "stdout",
     "output_type": "stream",
     "text": [
      "2.769905673878068 AU\n"
     ]
    }
   ],
   "source": [
    "print(orb2.a)"
   ]
  },
  {
   "cell_type": "code",
   "execution_count": 48,
   "metadata": {},
   "outputs": [
    {
     "data": {
      "text/html": [
       "<i>Table masked=True length=1</i>\n",
       "<table id=\"table140185694490352\" class=\"table-striped table-bordered table-condensed\">\n",
       "<thead><tr><th>targetname</th><th>datetime_jd</th><th>datetime_str</th><th>H</th><th>G</th><th>e</th><th>q</th><th>incl</th><th>Omega</th><th>w</th><th>Tp_jd</th><th>n</th><th>M</th><th>nu</th><th>a</th><th>Q</th><th>P</th></tr></thead>\n",
       "<thead><tr><th>---</th><th>d</th><th>---</th><th>mag</th><th>---</th><th>---</th><th>AU</th><th>deg</th><th>deg</th><th>deg</th><th>d</th><th>deg / d</th><th>deg</th><th>deg</th><th>AU</th><th>AU</th><th>d</th></tr></thead>\n",
       "<thead><tr><th>str7</th><th>float64</th><th>str30</th><th>float64</th><th>float64</th><th>float64</th><th>float64</th><th>float64</th><th>float64</th><th>float64</th><th>float64</th><th>float64</th><th>float64</th><th>float64</th><th>float64</th><th>float64</th><th>float64</th></tr></thead>\n",
       "<tr><td>1 Ceres</td><td>2458736.230890441</td><td>A.D. 2019-Sep-09 17:32:28.9341</td><td>3.34</td><td>0.12</td><td>0.07640046314213345</td><td>2.558324334539045</td><td>10.59337365407449</td><td>80.30540263323981</td><td>73.82614710998381</td><td>2458239.869770037</td><td>0.2137943534745352</td><td>106.1192048267149</td><td>114.284777362895</td><td>2.769949780662078</td><td>2.981575226785111</td><td>1683.861122379358</td></tr>\n",
       "</table>"
      ],
      "text/plain": [
       "<Table masked=True length=1>\n",
       "targetname    datetime_jd    ...         Q                 P        \n",
       "   ---             d         ...         AU                d        \n",
       "   str7         float64      ...      float64           float64     \n",
       "---------- ----------------- ... ----------------- -----------------\n",
       "   1 Ceres 2458736.230890441 ... 2.981575226785111 1683.861122379358"
      ]
     },
     "execution_count": 48,
     "metadata": {},
     "output_type": "execute_result"
    }
   ],
   "source": [
    "from astroquery.jplhorizons import Horizons\n",
    "Horizons(\"Ceres\").elements(refplane=\"ecliptic\")\n"
   ]
  },
  {
   "cell_type": "code",
   "execution_count": 67,
   "metadata": {},
   "outputs": [
    {
     "data": {
      "text/plain": [
       "-106.119204826714"
      ]
     },
     "execution_count": 67,
     "metadata": {},
     "output_type": "execute_result"
    }
   ],
   "source": [
    "(2458239.869770037 - 2458736.230890441) * 0.2137943534745352"
   ]
  },
  {
   "cell_type": "code",
   "execution_count": 79,
   "metadata": {},
   "outputs": [
    {
     "name": "stdout",
     "output_type": "stream",
     "text": [
      "2458238.75384\n"
     ]
    }
   ],
   "source": [
    "print(mpc_data[0]['Tp'])"
   ]
  },
  {
   "cell_type": "code",
   "execution_count": null,
   "metadata": {},
   "outputs": [],
   "source": []
  }
 ],
 "metadata": {
  "kernelspec": {
   "display_name": "Python 3",
   "language": "python",
   "name": "python3"
  },
  "language_info": {
   "codemirror_mode": {
    "name": "ipython",
    "version": 3
   },
   "file_extension": ".py",
   "mimetype": "text/x-python",
   "name": "python",
   "nbconvert_exporter": "python",
   "pygments_lexer": "ipython3",
   "version": "3.6.8"
  }
 },
 "nbformat": 4,
 "nbformat_minor": 2
}
