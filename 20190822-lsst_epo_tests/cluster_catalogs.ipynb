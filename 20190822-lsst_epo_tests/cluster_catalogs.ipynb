{
 "cells": [
  {
   "cell_type": "code",
   "execution_count": 35,
   "metadata": {},
   "outputs": [],
   "source": [
    "import astropy\n",
    "from astropy.table import Table, Column\n",
    "from astroquery.xmatch import XMatch"
   ]
  },
  {
   "cell_type": "code",
   "execution_count": 57,
   "metadata": {},
   "outputs": [],
   "source": [
    "def xMatch(cat1, cat2, \n",
    "           colNameX1='RA', colNameX2='RA', colNameY1='DEC', colNameY2='DEC', \n",
    "           cartesian=False,\n",
    "           minimum_value=99e99\n",
    "          ):\n",
    "    # oh god, I have to learn astropy.table methods, don't I? :(\n",
    "    newTable = Table(Column(name=\"xMatchR\", unit=None, description=\"xMatch distance\"), \n",
    "                     cat1.columns, cat2.columns,\n",
    "                     masked=None)\n",
    "    for row in cat1:\n",
    "        Rmin = minimum_value\n",
    "        best_match = None\n",
    "\n",
    "        for crow in cat2:\n",
    "            if cartesian is True:\n",
    "                Rtest = np.sqrt(np.square(row[colNameX1] - crow[colNameX2]) +\n",
    "                                np.square(row[colNameY1] - crow[colNameY2]))\n",
    "            else:\n",
    "                # Convert from degrees.\n",
    "                f1, l1 = (row[colNameX1] * np.pi / 180.0, row[colNameY1] * np.pi / 180.0)\n",
    "                f2, l2 = (crow[colNameX2] * np.pi / 180.0, crow[colNameY2] * np.pi / 180.0)\n",
    "                num = np.sqrt(np.square(np.cos(f2) * np.sin(l2 - l1)) +\n",
    "                              np.square(np.cos(f1) * np.sin(f2) - np.sin(f1) * np.cos(f2) * np.cos(l2 - l1)))\n",
    "                den = np.sin(f1) * np.sin(f2) + np.cos(f1) * np.cos(f2) * np.cos(l2 - l1)\n",
    "                Rtest = np.atan2(num, den) * 180.0 / np.pi * 3600.0\n",
    "\n",
    "            if Rtest < Rmin:\n",
    "                Rmin = Rtest\n",
    "                best_match = crow\n",
    "        if best_match is None:\n",
    "            newTable.add_row(None, row, None * len(cat2.columns))\n",
    "        else:\n",
    "            newTable.add_row(Rmin, row, best_match)\n",
    "    return newTable"
   ]
  },
  {
   "cell_type": "code",
   "execution_count": 54,
   "metadata": {},
   "outputs": [],
   "source": [
    "# https://heasarc.gsfc.nasa.gov/W3Browse/all/mwsc.html\n",
    "mwsc = Table.read(\"./data/mwsc_catalog.fits\", hdu='MWSC')"
   ]
  },
  {
   "cell_type": "code",
   "execution_count": 55,
   "metadata": {},
   "outputs": [],
   "source": [
    "mwgc = Table.read(\"./data/mwgc_catalog.fits\", hdu='GLOBCLUST')"
   ]
  },
  {
   "cell_type": "code",
   "execution_count": 56,
   "metadata": {},
   "outputs": [
    {
     "ename": "TypeError",
     "evalue": "__init__() got multiple values for argument 'masked'",
     "output_type": "error",
     "traceback": [
      "\u001b[0;31m---------------------------------------------------------------------------\u001b[0m",
      "\u001b[0;31mTypeError\u001b[0m                                 Traceback (most recent call last)",
      "\u001b[0;32m<ipython-input-56-0ed96f20c3b8>\u001b[0m in \u001b[0;36m<module>\u001b[0;34m\u001b[0m\n\u001b[0;32m----> 1\u001b[0;31m \u001b[0mjoint\u001b[0m \u001b[0;34m=\u001b[0m \u001b[0mxMatch\u001b[0m\u001b[0;34m(\u001b[0m\u001b[0mmwsc\u001b[0m\u001b[0;34m,\u001b[0m \u001b[0mmwgc\u001b[0m\u001b[0;34m,\u001b[0m \u001b[0mminimum_value\u001b[0m\u001b[0;34m=\u001b[0m\u001b[0;36m10.0\u001b[0m\u001b[0;34m)\u001b[0m\u001b[0;34m\u001b[0m\u001b[0;34m\u001b[0m\u001b[0m\n\u001b[0m",
      "\u001b[0;32m<ipython-input-53-983f4334aa52>\u001b[0m in \u001b[0;36mxMatch\u001b[0;34m(cat1, cat2, colNameX1, colNameX2, colNameY1, colNameY2, cartesian, minimum_value)\u001b[0m\n\u001b[1;32m      7\u001b[0m     newTable = Table(Column(name=\"xMatchR\", unit=None, description=\"xMatch distance\"), \n\u001b[1;32m      8\u001b[0m                      \u001b[0mcat1\u001b[0m\u001b[0;34m.\u001b[0m\u001b[0mcolumns\u001b[0m\u001b[0;34m,\u001b[0m \u001b[0mcat2\u001b[0m\u001b[0;34m.\u001b[0m\u001b[0mcolumns\u001b[0m\u001b[0;34m,\u001b[0m\u001b[0;34m\u001b[0m\u001b[0;34m\u001b[0m\u001b[0m\n\u001b[0;32m----> 9\u001b[0;31m                     masked=None)\n\u001b[0m\u001b[1;32m     10\u001b[0m     \u001b[0;32mfor\u001b[0m \u001b[0mrow\u001b[0m \u001b[0;32min\u001b[0m \u001b[0mcat1\u001b[0m\u001b[0;34m:\u001b[0m\u001b[0;34m\u001b[0m\u001b[0;34m\u001b[0m\u001b[0m\n\u001b[1;32m     11\u001b[0m         \u001b[0mRmin\u001b[0m \u001b[0;34m=\u001b[0m \u001b[0mminimum_value\u001b[0m\u001b[0;34m\u001b[0m\u001b[0;34m\u001b[0m\u001b[0m\n",
      "\u001b[0;31mTypeError\u001b[0m: __init__() got multiple values for argument 'masked'"
     ]
    }
   ],
   "source": [
    "joint = xMatch(mwsc, mwgc, minimum_value=10.0)"
   ]
  },
  {
   "cell_type": "code",
   "execution_count": null,
   "metadata": {},
   "outputs": [],
   "source": [
    "print(joint)"
   ]
  },
  {
   "cell_type": "code",
   "execution_count": 32,
   "metadata": {},
   "outputs": [
    {
     "name": "stdout",
     "output_type": "stream",
     "text": [
      "Help on XMatchClass in module astroquery.xmatch.core object:\n",
      "\n",
      "class XMatchClass(astroquery.query.BaseQuery)\n",
      " |  This is the base class for all the query classes in astroquery. It\n",
      " |  is implemented as an abstract class and must not be directly instantiated.\n",
      " |  \n",
      " |  Method resolution order:\n",
      " |      XMatchClass\n",
      " |      astroquery.query.BaseQuery\n",
      " |      builtins.object\n",
      " |  \n",
      " |  Methods defined here:\n",
      " |  \n",
      " |  get_available_tables(self, cache=True)\n",
      " |      Get the list of the VizieR tables which are available in the\n",
      " |      xMatch service and return them as a list of strings.\n",
      " |  \n",
      " |  is_table_available(self, table_id)\n",
      " |      Return True if the passed CDS table identifier is one of the\n",
      " |      available VizieR tables, otherwise False.\n",
      " |  \n",
      " |  query(self, cat1, cat2, max_distance, colRA1=None, colDec1=None, colRA2=None, colDec2=None, cache=True, get_query_payload=False)\n",
      " |      Query the `CDS cross-match service\n",
      " |      <http://cdsxmatch.u-strasbg.fr/xmatch>`_ by finding matches between\n",
      " |      two (potentially big) catalogues.\n",
      " |      \n",
      " |      Parameters\n",
      " |      ----------\n",
      " |      cat1 : str, file or `~astropy.table.Table`\n",
      " |          Identifier of the first table. It can either be a URL, the\n",
      " |          payload of a local file being uploaded, a CDS table\n",
      " |          identifier (either *simbad* for a view of SIMBAD data / to\n",
      " |          point out a given VizieR table) or a an AstroPy table.\n",
      " |          If the table is uploaded or accessed through a URL, it must be\n",
      " |          in VOTable or CSV format with the positions in J2000\n",
      " |          equatorial frame and as decimal degrees numbers.\n",
      " |      cat2 : str or file\n",
      " |          Identifier of the second table. Follows the same rules as *cat1*.\n",
      " |      max_distance : `~astropy.units.Quantity`\n",
      " |          Maximum distance to look for counterparts.\n",
      " |          Maximum allowed value is 180 arcsec.\n",
      " |      colRA1 : str\n",
      " |          Name of the column holding the right ascension. Only required\n",
      " |          if ``cat1`` is an uploaded table or a pointer to a URL.\n",
      " |      colDec1 : str\n",
      " |          Name of the column holding the declination. Only required if\n",
      " |          ``cat1`` is an uploaded table or a pointer to a URL.\n",
      " |      colRA2 : str\n",
      " |          Name of the column holding the right ascension. Only required\n",
      " |          if ``cat2`` is an uploaded table or a pointer to a URL.\n",
      " |      colDec2 : str\n",
      " |          Name of the column holding the declination. Only required if\n",
      " |          ``cat2`` is an uploaded table or a pointer to a URL.\n",
      " |      \n",
      " |      Returns\n",
      " |      -------\n",
      " |      table : `~astropy.table.Table`\n",
      " |          Query results table\n",
      " |  \n",
      " |  query_async(self, cat1, cat2, max_distance, colRA1=None, colDec1=None, colRA2=None, colDec2=None, cache=True, get_query_payload=False)\n",
      " |      Query the `CDS cross-match service\n",
      " |      <http://cdsxmatch.u-strasbg.fr/xmatch>`_ by finding matches between\n",
      " |      two (potentially big) catalogues.\n",
      " |      \n",
      " |      Parameters\n",
      " |      ----------\n",
      " |      cat1 : str, file or `~astropy.table.Table`\n",
      " |          Identifier of the first table. It can either be a URL, the\n",
      " |          payload of a local file being uploaded, a CDS table\n",
      " |          identifier (either *simbad* for a view of SIMBAD data / to\n",
      " |          point out a given VizieR table) or a an AstroPy table.\n",
      " |          If the table is uploaded or accessed through a URL, it must be\n",
      " |          in VOTable or CSV format with the positions in J2000\n",
      " |          equatorial frame and as decimal degrees numbers.\n",
      " |      cat2 : str or file\n",
      " |          Identifier of the second table. Follows the same rules as *cat1*.\n",
      " |      max_distance : `~astropy.units.Quantity`\n",
      " |          Maximum distance to look for counterparts.\n",
      " |          Maximum allowed value is 180 arcsec.\n",
      " |      colRA1 : str\n",
      " |          Name of the column holding the right ascension. Only required\n",
      " |          if ``cat1`` is an uploaded table or a pointer to a URL.\n",
      " |      colDec1 : str\n",
      " |          Name of the column holding the declination. Only required if\n",
      " |          ``cat1`` is an uploaded table or a pointer to a URL.\n",
      " |      colRA2 : str\n",
      " |          Name of the column holding the right ascension. Only required\n",
      " |          if ``cat2`` is an uploaded table or a pointer to a URL.\n",
      " |      colDec2 : str\n",
      " |          Name of the column holding the declination. Only required if\n",
      " |          ``cat2`` is an uploaded table or a pointer to a URL.\n",
      " |      \n",
      " |      Returns\n",
      " |      -------\n",
      " |      response : `~requests.Response`\n",
      " |          The HTTP response returned from the service.\n",
      " |  \n",
      " |  ----------------------------------------------------------------------\n",
      " |  Data and other attributes defined here:\n",
      " |  \n",
      " |  TIMEOUT = 60\n",
      " |  \n",
      " |  URL = 'http://cdsxmatch.u-strasbg.fr/xmatch/api/v1/sync'\n",
      " |  \n",
      " |  __abstractmethods__ = frozenset()\n",
      " |  \n",
      " |  ----------------------------------------------------------------------\n",
      " |  Methods inherited from astroquery.query.BaseQuery:\n",
      " |  \n",
      " |  __call__(self, *args, **kwargs)\n",
      " |      init a fresh copy of self\n",
      " |  \n",
      " |  __init__(self)\n",
      " |      Initialize self.  See help(type(self)) for accurate signature.\n",
      " |  \n",
      " |  ----------------------------------------------------------------------\n",
      " |  Data descriptors inherited from astroquery.query.BaseQuery:\n",
      " |  \n",
      " |  __dict__\n",
      " |      dictionary for instance variables (if defined)\n",
      " |  \n",
      " |  __weakref__\n",
      " |      list of weak references to the object (if defined)\n",
      "\n"
     ]
    }
   ],
   "source": [
    "help(XMatch)"
   ]
  },
  {
   "cell_type": "code",
   "execution_count": null,
   "metadata": {},
   "outputs": [],
   "source": []
  }
 ],
 "metadata": {
  "kernelspec": {
   "display_name": "Python 3",
   "language": "python",
   "name": "python3"
  },
  "language_info": {
   "codemirror_mode": {
    "name": "ipython",
    "version": 3
   },
   "file_extension": ".py",
   "mimetype": "text/x-python",
   "name": "python",
   "nbconvert_exporter": "python",
   "pygments_lexer": "ipython3",
   "version": "3.6.8"
  }
 },
 "nbformat": 4,
 "nbformat_minor": 2
}
